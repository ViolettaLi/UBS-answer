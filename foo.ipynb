{
 "cells": [
  {
   "cell_type": "code",
   "execution_count": 1,
   "id": "278ccfcc",
   "metadata": {},
   "outputs": [],
   "source": [
    "def foo(n):\n",
    "    if n == 0:\n",
    "        return 0\n",
    "    elif n == 1 or n == 2:\n",
    "        return 1\n",
    "    else:\n",
    "        a, b, c = 0, 1, 1\n",
    "        for i in range(3, n+1):\n",
    "            d = a + b + c\n",
    "            a, b, c = b, c, d\n",
    "        return d"
   ]
  },
  {
   "cell_type": "code",
   "execution_count": 2,
   "id": "ede3785c",
   "metadata": {},
   "outputs": [
    {
     "name": "stdout",
     "output_type": "stream",
     "text": [
      "149\n"
     ]
    }
   ],
   "source": [
    "print(foo(10))"
   ]
  },
  {
   "cell_type": "markdown",
   "id": "ea7e36ec",
   "metadata": {},
   "source": [
    "Time complexity:O(n)\n",
    "The sum of the first three numbers of each element from 3 to n needs to be computed n-3 times. Therefore, the time complexity is O(n-3), i.e. O(n)\n",
    "Space complexity:O(n)\n",
    "We only need to keep track of the first three numbers to compute the next element, but to compute the first n elements, we need O(n) space to store\n",
    "This approach is optimal in terms of both time and space complexity."
   ]
  },
  {
   "cell_type": "code",
   "execution_count": null,
   "id": "fa26bbd8",
   "metadata": {},
   "outputs": [],
   "source": []
  }
 ],
 "metadata": {
  "kernelspec": {
   "display_name": "Python 3",
   "language": "python",
   "name": "python3"
  },
  "language_info": {
   "codemirror_mode": {
    "name": "ipython",
    "version": 3
   },
   "file_extension": ".py",
   "mimetype": "text/x-python",
   "name": "python",
   "nbconvert_exporter": "python",
   "pygments_lexer": "ipython3",
   "version": "3.8.8"
  }
 },
 "nbformat": 4,
 "nbformat_minor": 5
}
